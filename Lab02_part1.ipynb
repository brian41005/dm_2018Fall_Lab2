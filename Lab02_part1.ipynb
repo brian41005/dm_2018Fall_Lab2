{
 "cells": [
  {
   "cell_type": "markdown",
   "metadata": {},
   "source": [
    "## Deep Information Retrieval and Neural Word Embeddings (Part 1)"
   ]
  },
  {
   "cell_type": "markdown",
   "metadata": {},
   "source": [
    "**Task:** Classify text data into different emotions using word embedding and other deep information retrieval approaches.\n",
    "\n",
    "**Github Repo:** [LINK](https://github.com/EvanYu800112/dm_2018Fall_Lab2)\n",
    "\n",
    "**Dataset: ** [SemEval 2017 Task](https://competitions.codalab.org/competitions/16380)\n",
    "  \n",
    "---\n",
    "\n",
    "### Outline:\n",
    "1. Data preparation\n",
    "2. Feature engineering\n",
    "3. Model\n",
    "4. Results evaluation\n",
    "5. Your show time\n",
    "6. Other things you could try\n"
   ]
  },
  {
   "cell_type": "markdown",
   "metadata": {},
   "source": [
    "---\n",
    "### Task"
   ]
  },
  {
   "cell_type": "markdown",
   "metadata": {},
   "source": [
    "** Classify text into one of 4 emotions **\n",
    "  \n",
    "![Imgur](https://i.imgur.com/k6tFirz.png)"
   ]
  },
  {
   "cell_type": "markdown",
   "metadata": {},
   "source": [
    "---\n",
    "### 1. Data Preparation"
   ]
  },
  {
   "cell_type": "markdown",
   "metadata": {},
   "source": [
    "### 1-1 Load data"
   ]
  },
  {
   "cell_type": "code",
   "execution_count": 1,
   "metadata": {
    "ExecuteTime": {
     "end_time": "2018-11-05T04:47:13.312466Z",
     "start_time": "2018-11-05T04:47:12.826320Z"
    }
   },
   "outputs": [],
   "source": [
    "import pandas as pd"
   ]
  },
  {
   "cell_type": "code",
   "execution_count": 2,
   "metadata": {
    "ExecuteTime": {
     "end_time": "2018-11-05T04:47:15.030131Z",
     "start_time": "2018-11-05T04:47:14.991086Z"
    }
   },
   "outputs": [],
   "source": [
    "### training data\n",
    "anger_train = pd.read_csv(\"data/semeval/train/anger-ratings-0to1.train.txt\",\n",
    "                         sep=\"\\t\", header=None,names=[\"id\", \"text\", \"emotion\", \"intensity\"])\n",
    "sadness_train = pd.read_csv(\"data/semeval/train/sadness-ratings-0to1.train.txt\",\n",
    "                         sep=\"\\t\", header=None, names=[\"id\", \"text\", \"emotion\", \"intensity\"])\n",
    "fear_train = pd.read_csv(\"data/semeval/train/fear-ratings-0to1.train.txt\",\n",
    "                         sep=\"\\t\", header=None, names=[\"id\", \"text\", \"emotion\", \"intensity\"])\n",
    "joy_train = pd.read_csv(\"data/semeval/train/joy-ratings-0to1.train.txt\",\n",
    "                         sep=\"\\t\", header=None, names=[\"id\", \"text\", \"emotion\", \"intensity\"])"
   ]
  },
  {
   "cell_type": "code",
   "execution_count": 3,
   "metadata": {
    "ExecuteTime": {
     "end_time": "2018-11-05T04:47:18.393453Z",
     "start_time": "2018-11-05T04:47:18.387826Z"
    }
   },
   "outputs": [],
   "source": [
    "# combine 4 sub-dataset\n",
    "train_df = pd.concat([anger_train, fear_train, joy_train, sadness_train], ignore_index=True)"
   ]
  },
  {
   "cell_type": "code",
   "execution_count": 4,
   "metadata": {
    "ExecuteTime": {
     "end_time": "2018-11-05T04:47:20.013619Z",
     "start_time": "2018-11-05T04:47:19.997055Z"
    }
   },
   "outputs": [],
   "source": [
    "### testing data\n",
    "anger_test = pd.read_csv(\"data/semeval/dev/anger-ratings-0to1.dev.gold.txt\",\n",
    "                         sep=\"\\t\", header=None, names=[\"id\", \"text\", \"emotion\", \"intensity\"])\n",
    "sadness_test = pd.read_csv(\"data/semeval/dev/sadness-ratings-0to1.dev.gold.txt\",\n",
    "                         sep=\"\\t\", header=None, names=[\"id\", \"text\", \"emotion\", \"intensity\"])\n",
    "fear_test = pd.read_csv(\"data/semeval/dev/fear-ratings-0to1.dev.gold.txt\",\n",
    "                         sep=\"\\t\", header=None, names=[\"id\", \"text\", \"emotion\", \"intensity\"])\n",
    "joy_test = pd.read_csv(\"data/semeval/dev/joy-ratings-0to1.dev.gold.txt\",\n",
    "                         sep=\"\\t\", header=None, names=[\"id\", \"text\", \"emotion\", \"intensity\"])\n",
    "\n",
    "# combine 4 sub-dataset\n",
    "test_df = pd.concat([anger_test, fear_test, joy_test, sadness_test], ignore_index=True)"
   ]
  },
  {
   "cell_type": "markdown",
   "metadata": {},
   "source": [
    "---"
   ]
  },
  {
   "cell_type": "code",
   "execution_count": 5,
   "metadata": {
    "ExecuteTime": {
     "end_time": "2018-11-05T04:47:23.898854Z",
     "start_time": "2018-11-05T04:47:23.869801Z"
    }
   },
   "outputs": [
    {
     "name": "stdout",
     "output_type": "stream",
     "text": [
      "shape of \"training data\": (3613, 4)\n"
     ]
    },
    {
     "data": {
      "text/html": [
       "<div>\n",
       "<style scoped>\n",
       "    .dataframe tbody tr th:only-of-type {\n",
       "        vertical-align: middle;\n",
       "    }\n",
       "\n",
       "    .dataframe tbody tr th {\n",
       "        vertical-align: top;\n",
       "    }\n",
       "\n",
       "    .dataframe thead th {\n",
       "        text-align: right;\n",
       "    }\n",
       "</style>\n",
       "<table border=\"1\" class=\"dataframe\">\n",
       "  <thead>\n",
       "    <tr style=\"text-align: right;\">\n",
       "      <th></th>\n",
       "      <th>id</th>\n",
       "      <th>text</th>\n",
       "      <th>emotion</th>\n",
       "      <th>intensity</th>\n",
       "    </tr>\n",
       "  </thead>\n",
       "  <tbody>\n",
       "    <tr>\n",
       "      <th>0</th>\n",
       "      <td>10000</td>\n",
       "      <td>How the fu*k! Who the heck! moved my fridge!.....</td>\n",
       "      <td>anger</td>\n",
       "      <td>0.938</td>\n",
       "    </tr>\n",
       "    <tr>\n",
       "      <th>1</th>\n",
       "      <td>10001</td>\n",
       "      <td>So my Indian Uber driver just called someone t...</td>\n",
       "      <td>anger</td>\n",
       "      <td>0.896</td>\n",
       "    </tr>\n",
       "    <tr>\n",
       "      <th>2</th>\n",
       "      <td>10002</td>\n",
       "      <td>@DPD_UK I asked for my parcel to be delivered ...</td>\n",
       "      <td>anger</td>\n",
       "      <td>0.896</td>\n",
       "    </tr>\n",
       "    <tr>\n",
       "      <th>3</th>\n",
       "      <td>10003</td>\n",
       "      <td>so ef whichever butt wipe pulled the fire alar...</td>\n",
       "      <td>anger</td>\n",
       "      <td>0.896</td>\n",
       "    </tr>\n",
       "    <tr>\n",
       "      <th>4</th>\n",
       "      <td>10004</td>\n",
       "      <td>Don't join @BTCare they put the phone down on ...</td>\n",
       "      <td>anger</td>\n",
       "      <td>0.896</td>\n",
       "    </tr>\n",
       "    <tr>\n",
       "      <th>5</th>\n",
       "      <td>10005</td>\n",
       "      <td>My blood is boiling</td>\n",
       "      <td>anger</td>\n",
       "      <td>0.875</td>\n",
       "    </tr>\n",
       "    <tr>\n",
       "      <th>6</th>\n",
       "      <td>10006</td>\n",
       "      <td>When you've still got a whole season of Wentwo...</td>\n",
       "      <td>anger</td>\n",
       "      <td>0.875</td>\n",
       "    </tr>\n",
       "    <tr>\n",
       "      <th>7</th>\n",
       "      <td>10007</td>\n",
       "      <td>@bt_uk why does tracking show my equipment del...</td>\n",
       "      <td>anger</td>\n",
       "      <td>0.875</td>\n",
       "    </tr>\n",
       "    <tr>\n",
       "      <th>8</th>\n",
       "      <td>10008</td>\n",
       "      <td>@TeamShanny legit why i am so furious with him...</td>\n",
       "      <td>anger</td>\n",
       "      <td>0.875</td>\n",
       "    </tr>\n",
       "    <tr>\n",
       "      <th>9</th>\n",
       "      <td>10009</td>\n",
       "      <td>How is it suppose to work if you do that? Wtf ...</td>\n",
       "      <td>anger</td>\n",
       "      <td>0.875</td>\n",
       "    </tr>\n",
       "    <tr>\n",
       "      <th>10</th>\n",
       "      <td>10010</td>\n",
       "      <td>im so mad about power rangers. im incensed. im...</td>\n",
       "      <td>anger</td>\n",
       "      <td>0.667</td>\n",
       "    </tr>\n",
       "    <tr>\n",
       "      <th>11</th>\n",
       "      <td>10011</td>\n",
       "      <td>Wont use using @mothercareuk @Mothercarehelp a...</td>\n",
       "      <td>anger</td>\n",
       "      <td>0.854</td>\n",
       "    </tr>\n",
       "    <tr>\n",
       "      <th>12</th>\n",
       "      <td>10012</td>\n",
       "      <td>Bitches aggravate like what inspires you to be...</td>\n",
       "      <td>anger</td>\n",
       "      <td>0.854</td>\n",
       "    </tr>\n",
       "    <tr>\n",
       "      <th>13</th>\n",
       "      <td>10013</td>\n",
       "      <td>Why does @dapperlaughs have to come to Glasgow...</td>\n",
       "      <td>anger</td>\n",
       "      <td>0.938</td>\n",
       "    </tr>\n",
       "    <tr>\n",
       "      <th>14</th>\n",
       "      <td>10014</td>\n",
       "      <td>Fuking fuming 😤</td>\n",
       "      <td>anger</td>\n",
       "      <td>0.854</td>\n",
       "    </tr>\n",
       "    <tr>\n",
       "      <th>15</th>\n",
       "      <td>10015</td>\n",
       "      <td>Zero help from @ups customer service. Just pus...</td>\n",
       "      <td>anger</td>\n",
       "      <td>0.854</td>\n",
       "    </tr>\n",
       "    <tr>\n",
       "      <th>16</th>\n",
       "      <td>10016</td>\n",
       "      <td>@ArizonaCoyotes not to mention the GRA guy sto...</td>\n",
       "      <td>anger</td>\n",
       "      <td>0.854</td>\n",
       "    </tr>\n",
       "    <tr>\n",
       "      <th>17</th>\n",
       "      <td>10017</td>\n",
       "      <td>I hate my lawn mower. If it had a soul, I'd co...</td>\n",
       "      <td>anger</td>\n",
       "      <td>0.833</td>\n",
       "    </tr>\n",
       "    <tr>\n",
       "      <th>18</th>\n",
       "      <td>10018</td>\n",
       "      <td>why are people so offended by kendall he ends ...</td>\n",
       "      <td>anger</td>\n",
       "      <td>0.833</td>\n",
       "    </tr>\n",
       "    <tr>\n",
       "      <th>19</th>\n",
       "      <td>10019</td>\n",
       "      <td>I'm about to block everyone everywhere posting...</td>\n",
       "      <td>anger</td>\n",
       "      <td>0.812</td>\n",
       "    </tr>\n",
       "    <tr>\n",
       "      <th>20</th>\n",
       "      <td>10020</td>\n",
       "      <td>Making my buddy cry !! Bitch wait for revenge 🤗👌🏻</td>\n",
       "      <td>anger</td>\n",
       "      <td>0.812</td>\n",
       "    </tr>\n",
       "    <tr>\n",
       "      <th>21</th>\n",
       "      <td>10021</td>\n",
       "      <td>Bes! You don't just tell a true blooded hoopju...</td>\n",
       "      <td>anger</td>\n",
       "      <td>0.891</td>\n",
       "    </tr>\n",
       "    <tr>\n",
       "      <th>22</th>\n",
       "      <td>10022</td>\n",
       "      <td>I got a NO RESPONSE again from an #irate custo...</td>\n",
       "      <td>anger</td>\n",
       "      <td>0.812</td>\n",
       "    </tr>\n",
       "    <tr>\n",
       "      <th>23</th>\n",
       "      <td>10023</td>\n",
       "      <td>Tasers immobilize, if you taser someone why th...</td>\n",
       "      <td>anger</td>\n",
       "      <td>0.812</td>\n",
       "    </tr>\n",
       "    <tr>\n",
       "      <th>24</th>\n",
       "      <td>10024</td>\n",
       "      <td>@LeKingCoq @MistaAggy @GiovanniiDC The way my ...</td>\n",
       "      <td>anger</td>\n",
       "      <td>0.792</td>\n",
       "    </tr>\n",
       "    <tr>\n",
       "      <th>25</th>\n",
       "      <td>10025</td>\n",
       "      <td>Actually fuming I have nothing to wear Saturday</td>\n",
       "      <td>anger</td>\n",
       "      <td>0.792</td>\n",
       "    </tr>\n",
       "    <tr>\n",
       "      <th>26</th>\n",
       "      <td>10026</td>\n",
       "      <td>.@DIVAmagazine than straight people. Even the ...</td>\n",
       "      <td>anger</td>\n",
       "      <td>0.792</td>\n",
       "    </tr>\n",
       "    <tr>\n",
       "      <th>27</th>\n",
       "      <td>10027</td>\n",
       "      <td>Bloody parking ticket 😒💸 #fuming</td>\n",
       "      <td>anger</td>\n",
       "      <td>0.792</td>\n",
       "    </tr>\n",
       "    <tr>\n",
       "      <th>28</th>\n",
       "      <td>10028</td>\n",
       "      <td>You ever just find that the people around you ...</td>\n",
       "      <td>anger</td>\n",
       "      <td>0.792</td>\n",
       "    </tr>\n",
       "    <tr>\n",
       "      <th>29</th>\n",
       "      <td>10029</td>\n",
       "      <td>I get so angry at people that don't know that ...</td>\n",
       "      <td>anger</td>\n",
       "      <td>0.792</td>\n",
       "    </tr>\n",
       "    <tr>\n",
       "      <th>...</th>\n",
       "      <td>...</td>\n",
       "      <td>...</td>\n",
       "      <td>...</td>\n",
       "      <td>...</td>\n",
       "    </tr>\n",
       "    <tr>\n",
       "      <th>3583</th>\n",
       "      <td>40756</td>\n",
       "      <td>Guys! Read my #fanfiction if you like #lost an...</td>\n",
       "      <td>sadness</td>\n",
       "      <td>0.188</td>\n",
       "    </tr>\n",
       "    <tr>\n",
       "      <th>3584</th>\n",
       "      <td>40757</td>\n",
       "      <td>@m_giacchino will this be aired on radio or fi...</td>\n",
       "      <td>sadness</td>\n",
       "      <td>0.188</td>\n",
       "    </tr>\n",
       "    <tr>\n",
       "      <th>3585</th>\n",
       "      <td>40758</td>\n",
       "      <td>Very long day. Thank goodness for Bake Off to ...</td>\n",
       "      <td>sadness</td>\n",
       "      <td>0.188</td>\n",
       "    </tr>\n",
       "    <tr>\n",
       "      <th>3586</th>\n",
       "      <td>40759</td>\n",
       "      <td>TONIGHT - Fulford Arms, York \\nTOMORROW - Bank...</td>\n",
       "      <td>sadness</td>\n",
       "      <td>0.188</td>\n",
       "    </tr>\n",
       "    <tr>\n",
       "      <th>3587</th>\n",
       "      <td>40760</td>\n",
       "      <td>I'm so proud he understands this, he shows lov...</td>\n",
       "      <td>sadness</td>\n",
       "      <td>0.188</td>\n",
       "    </tr>\n",
       "    <tr>\n",
       "      <th>3588</th>\n",
       "      <td>40761</td>\n",
       "      <td>blues bar</td>\n",
       "      <td>sadness</td>\n",
       "      <td>0.188</td>\n",
       "    </tr>\n",
       "    <tr>\n",
       "      <th>3589</th>\n",
       "      <td>40762</td>\n",
       "      <td>@GOP she's ahead in the polls &amp;amp; after Trum...</td>\n",
       "      <td>sadness</td>\n",
       "      <td>0.174</td>\n",
       "    </tr>\n",
       "    <tr>\n",
       "      <th>3590</th>\n",
       "      <td>40763</td>\n",
       "      <td>@urbaneprofessor roast them. Then risotto with...</td>\n",
       "      <td>sadness</td>\n",
       "      <td>0.167</td>\n",
       "    </tr>\n",
       "    <tr>\n",
       "      <th>3591</th>\n",
       "      <td>40764</td>\n",
       "      <td>Happiness is always there. You just have to ch...</td>\n",
       "      <td>sadness</td>\n",
       "      <td>0.167</td>\n",
       "    </tr>\n",
       "    <tr>\n",
       "      <th>3592</th>\n",
       "      <td>40765</td>\n",
       "      <td>Good morning chirpy #SpringEquinox and your pe...</td>\n",
       "      <td>sadness</td>\n",
       "      <td>0.167</td>\n",
       "    </tr>\n",
       "    <tr>\n",
       "      <th>3593</th>\n",
       "      <td>40766</td>\n",
       "      <td>also who has amazon prime that would like to h...</td>\n",
       "      <td>sadness</td>\n",
       "      <td>0.167</td>\n",
       "    </tr>\n",
       "    <tr>\n",
       "      <th>3594</th>\n",
       "      <td>40767</td>\n",
       "      <td>I added Paul Walker on Xbox but he just spends...</td>\n",
       "      <td>sadness</td>\n",
       "      <td>0.167</td>\n",
       "    </tr>\n",
       "    <tr>\n",
       "      <th>3595</th>\n",
       "      <td>40768</td>\n",
       "      <td>Nice to see Balotelli back to his best, good p...</td>\n",
       "      <td>sadness</td>\n",
       "      <td>0.167</td>\n",
       "    </tr>\n",
       "    <tr>\n",
       "      <th>3596</th>\n",
       "      <td>40769</td>\n",
       "      <td>@KatieBurnett ha freshers blues would love to ...</td>\n",
       "      <td>sadness</td>\n",
       "      <td>0.167</td>\n",
       "    </tr>\n",
       "    <tr>\n",
       "      <th>3597</th>\n",
       "      <td>40770</td>\n",
       "      <td>What do you get when you cross an #apple tree ...</td>\n",
       "      <td>sadness</td>\n",
       "      <td>0.146</td>\n",
       "    </tr>\n",
       "    <tr>\n",
       "      <th>3598</th>\n",
       "      <td>40771</td>\n",
       "      <td>Please bear with me, I'm not Twitter savvy😝 in...</td>\n",
       "      <td>sadness</td>\n",
       "      <td>0.146</td>\n",
       "    </tr>\n",
       "    <tr>\n",
       "      <th>3599</th>\n",
       "      <td>40772</td>\n",
       "      <td>@RiRiMathew even when we're fighting I'm laugh...</td>\n",
       "      <td>sadness</td>\n",
       "      <td>0.146</td>\n",
       "    </tr>\n",
       "    <tr>\n",
       "      <th>3600</th>\n",
       "      <td>40773</td>\n",
       "      <td>@SquidWasTaken Pfft- Yeye, i'm a sucker for br...</td>\n",
       "      <td>sadness</td>\n",
       "      <td>0.146</td>\n",
       "    </tr>\n",
       "    <tr>\n",
       "      <th>3601</th>\n",
       "      <td>40774</td>\n",
       "      <td>Never a dull moment when talking to Nell 😂😂😂😂😋</td>\n",
       "      <td>sadness</td>\n",
       "      <td>0.146</td>\n",
       "    </tr>\n",
       "    <tr>\n",
       "      <th>3602</th>\n",
       "      <td>40775</td>\n",
       "      <td>Never dull moment here</td>\n",
       "      <td>sadness</td>\n",
       "      <td>0.146</td>\n",
       "    </tr>\n",
       "    <tr>\n",
       "      <th>3603</th>\n",
       "      <td>40776</td>\n",
       "      <td>#picoftheday : How...why... Really... !!\\n    ...</td>\n",
       "      <td>sadness</td>\n",
       "      <td>0.146</td>\n",
       "    </tr>\n",
       "    <tr>\n",
       "      <th>3604</th>\n",
       "      <td>40777</td>\n",
       "      <td>@EBled2 Great to have you as our tournament ch...</td>\n",
       "      <td>sadness</td>\n",
       "      <td>0.132</td>\n",
       "    </tr>\n",
       "    <tr>\n",
       "      <th>3605</th>\n",
       "      <td>40778</td>\n",
       "      <td>@DarbyHogle the red one would look super prett...</td>\n",
       "      <td>sadness</td>\n",
       "      <td>0.125</td>\n",
       "    </tr>\n",
       "    <tr>\n",
       "      <th>3606</th>\n",
       "      <td>40779</td>\n",
       "      <td>@PottzGaming hmu need players for lans next ye...</td>\n",
       "      <td>sadness</td>\n",
       "      <td>0.125</td>\n",
       "    </tr>\n",
       "    <tr>\n",
       "      <th>3607</th>\n",
       "      <td>40780</td>\n",
       "      <td>#FF @ElizaNealsRocks Love &amp;amp; support, alway...</td>\n",
       "      <td>sadness</td>\n",
       "      <td>0.125</td>\n",
       "    </tr>\n",
       "    <tr>\n",
       "      <th>3608</th>\n",
       "      <td>40781</td>\n",
       "      <td>@VivienLloyd Thank you so much! Just home - st...</td>\n",
       "      <td>sadness</td>\n",
       "      <td>0.104</td>\n",
       "    </tr>\n",
       "    <tr>\n",
       "      <th>3609</th>\n",
       "      <td>40782</td>\n",
       "      <td>Just put the winter duvet on ☃️❄️🌬☔️</td>\n",
       "      <td>sadness</td>\n",
       "      <td>0.104</td>\n",
       "    </tr>\n",
       "    <tr>\n",
       "      <th>3610</th>\n",
       "      <td>40783</td>\n",
       "      <td>@SilkInSide @TommyJoeRatliff that's so pretty!...</td>\n",
       "      <td>sadness</td>\n",
       "      <td>0.088</td>\n",
       "    </tr>\n",
       "    <tr>\n",
       "      <th>3611</th>\n",
       "      <td>40784</td>\n",
       "      <td>@BluesfestByron second artist announcement loo...</td>\n",
       "      <td>sadness</td>\n",
       "      <td>0.083</td>\n",
       "    </tr>\n",
       "    <tr>\n",
       "      <th>3612</th>\n",
       "      <td>40785</td>\n",
       "      <td>I can literally eat creamy pesto pasta topped ...</td>\n",
       "      <td>sadness</td>\n",
       "      <td>0.083</td>\n",
       "    </tr>\n",
       "  </tbody>\n",
       "</table>\n",
       "<p>3613 rows × 4 columns</p>\n",
       "</div>"
      ],
      "text/plain": [
       "         id                                               text  emotion  \\\n",
       "0     10000  How the fu*k! Who the heck! moved my fridge!.....    anger   \n",
       "1     10001  So my Indian Uber driver just called someone t...    anger   \n",
       "2     10002  @DPD_UK I asked for my parcel to be delivered ...    anger   \n",
       "3     10003  so ef whichever butt wipe pulled the fire alar...    anger   \n",
       "4     10004  Don't join @BTCare they put the phone down on ...    anger   \n",
       "5     10005                                My blood is boiling    anger   \n",
       "6     10006  When you've still got a whole season of Wentwo...    anger   \n",
       "7     10007  @bt_uk why does tracking show my equipment del...    anger   \n",
       "8     10008  @TeamShanny legit why i am so furious with him...    anger   \n",
       "9     10009  How is it suppose to work if you do that? Wtf ...    anger   \n",
       "10    10010  im so mad about power rangers. im incensed. im...    anger   \n",
       "11    10011  Wont use using @mothercareuk @Mothercarehelp a...    anger   \n",
       "12    10012  Bitches aggravate like what inspires you to be...    anger   \n",
       "13    10013  Why does @dapperlaughs have to come to Glasgow...    anger   \n",
       "14    10014                                    Fuking fuming 😤    anger   \n",
       "15    10015  Zero help from @ups customer service. Just pus...    anger   \n",
       "16    10016  @ArizonaCoyotes not to mention the GRA guy sto...    anger   \n",
       "17    10017  I hate my lawn mower. If it had a soul, I'd co...    anger   \n",
       "18    10018  why are people so offended by kendall he ends ...    anger   \n",
       "19    10019  I'm about to block everyone everywhere posting...    anger   \n",
       "20    10020  Making my buddy cry !! Bitch wait for revenge 🤗👌🏻    anger   \n",
       "21    10021  Bes! You don't just tell a true blooded hoopju...    anger   \n",
       "22    10022  I got a NO RESPONSE again from an #irate custo...    anger   \n",
       "23    10023  Tasers immobilize, if you taser someone why th...    anger   \n",
       "24    10024  @LeKingCoq @MistaAggy @GiovanniiDC The way my ...    anger   \n",
       "25    10025    Actually fuming I have nothing to wear Saturday    anger   \n",
       "26    10026  .@DIVAmagazine than straight people. Even the ...    anger   \n",
       "27    10027                   Bloody parking ticket 😒💸 #fuming    anger   \n",
       "28    10028  You ever just find that the people around you ...    anger   \n",
       "29    10029  I get so angry at people that don't know that ...    anger   \n",
       "...     ...                                                ...      ...   \n",
       "3583  40756  Guys! Read my #fanfiction if you like #lost an...  sadness   \n",
       "3584  40757  @m_giacchino will this be aired on radio or fi...  sadness   \n",
       "3585  40758  Very long day. Thank goodness for Bake Off to ...  sadness   \n",
       "3586  40759  TONIGHT - Fulford Arms, York \\nTOMORROW - Bank...  sadness   \n",
       "3587  40760  I'm so proud he understands this, he shows lov...  sadness   \n",
       "3588  40761                                          blues bar  sadness   \n",
       "3589  40762  @GOP she's ahead in the polls &amp; after Trum...  sadness   \n",
       "3590  40763  @urbaneprofessor roast them. Then risotto with...  sadness   \n",
       "3591  40764  Happiness is always there. You just have to ch...  sadness   \n",
       "3592  40765  Good morning chirpy #SpringEquinox and your pe...  sadness   \n",
       "3593  40766  also who has amazon prime that would like to h...  sadness   \n",
       "3594  40767  I added Paul Walker on Xbox but he just spends...  sadness   \n",
       "3595  40768  Nice to see Balotelli back to his best, good p...  sadness   \n",
       "3596  40769  @KatieBurnett ha freshers blues would love to ...  sadness   \n",
       "3597  40770  What do you get when you cross an #apple tree ...  sadness   \n",
       "3598  40771  Please bear with me, I'm not Twitter savvy😝 in...  sadness   \n",
       "3599  40772  @RiRiMathew even when we're fighting I'm laugh...  sadness   \n",
       "3600  40773  @SquidWasTaken Pfft- Yeye, i'm a sucker for br...  sadness   \n",
       "3601  40774     Never a dull moment when talking to Nell 😂😂😂😂😋  sadness   \n",
       "3602  40775                             Never dull moment here  sadness   \n",
       "3603  40776  #picoftheday : How...why... Really... !!\\n    ...  sadness   \n",
       "3604  40777  @EBled2 Great to have you as our tournament ch...  sadness   \n",
       "3605  40778  @DarbyHogle the red one would look super prett...  sadness   \n",
       "3606  40779  @PottzGaming hmu need players for lans next ye...  sadness   \n",
       "3607  40780  #FF @ElizaNealsRocks Love &amp; support, alway...  sadness   \n",
       "3608  40781  @VivienLloyd Thank you so much! Just home - st...  sadness   \n",
       "3609  40782              Just put the winter duvet on ☃️❄️🌬☔️   sadness   \n",
       "3610  40783  @SilkInSide @TommyJoeRatliff that's so pretty!...  sadness   \n",
       "3611  40784  @BluesfestByron second artist announcement loo...  sadness   \n",
       "3612  40785  I can literally eat creamy pesto pasta topped ...  sadness   \n",
       "\n",
       "      intensity  \n",
       "0         0.938  \n",
       "1         0.896  \n",
       "2         0.896  \n",
       "3         0.896  \n",
       "4         0.896  \n",
       "5         0.875  \n",
       "6         0.875  \n",
       "7         0.875  \n",
       "8         0.875  \n",
       "9         0.875  \n",
       "10        0.667  \n",
       "11        0.854  \n",
       "12        0.854  \n",
       "13        0.938  \n",
       "14        0.854  \n",
       "15        0.854  \n",
       "16        0.854  \n",
       "17        0.833  \n",
       "18        0.833  \n",
       "19        0.812  \n",
       "20        0.812  \n",
       "21        0.891  \n",
       "22        0.812  \n",
       "23        0.812  \n",
       "24        0.792  \n",
       "25        0.792  \n",
       "26        0.792  \n",
       "27        0.792  \n",
       "28        0.792  \n",
       "29        0.792  \n",
       "...         ...  \n",
       "3583      0.188  \n",
       "3584      0.188  \n",
       "3585      0.188  \n",
       "3586      0.188  \n",
       "3587      0.188  \n",
       "3588      0.188  \n",
       "3589      0.174  \n",
       "3590      0.167  \n",
       "3591      0.167  \n",
       "3592      0.167  \n",
       "3593      0.167  \n",
       "3594      0.167  \n",
       "3595      0.167  \n",
       "3596      0.167  \n",
       "3597      0.146  \n",
       "3598      0.146  \n",
       "3599      0.146  \n",
       "3600      0.146  \n",
       "3601      0.146  \n",
       "3602      0.146  \n",
       "3603      0.146  \n",
       "3604      0.132  \n",
       "3605      0.125  \n",
       "3606      0.125  \n",
       "3607      0.125  \n",
       "3608      0.104  \n",
       "3609      0.104  \n",
       "3610      0.088  \n",
       "3611      0.083  \n",
       "3612      0.083  \n",
       "\n",
       "[3613 rows x 4 columns]"
      ]
     },
     "execution_count": 5,
     "metadata": {},
     "output_type": "execute_result"
    }
   ],
   "source": [
    "print('shape of \"training data\":', train_df.shape)\n",
    "\n",
    "train_df"
   ]
  },
  {
   "cell_type": "code",
   "execution_count": 6,
   "metadata": {
    "ExecuteTime": {
     "end_time": "2018-11-05T04:49:28.877725Z",
     "start_time": "2018-11-05T04:49:28.867920Z"
    }
   },
   "outputs": [],
   "source": [
    "# shuffle dataset\n",
    "train_df = train_df.sample(frac=1)\n",
    "test_df = test_df.sample(frac=1)"
   ]
  },
  {
   "cell_type": "code",
   "execution_count": 7,
   "metadata": {
    "ExecuteTime": {
     "end_time": "2018-11-05T04:49:30.703411Z",
     "start_time": "2018-11-05T04:49:30.693563Z"
    },
    "scrolled": true
   },
   "outputs": [
    {
     "data": {
      "text/html": [
       "<div>\n",
       "<style scoped>\n",
       "    .dataframe tbody tr th:only-of-type {\n",
       "        vertical-align: middle;\n",
       "    }\n",
       "\n",
       "    .dataframe tbody tr th {\n",
       "        vertical-align: top;\n",
       "    }\n",
       "\n",
       "    .dataframe thead th {\n",
       "        text-align: right;\n",
       "    }\n",
       "</style>\n",
       "<table border=\"1\" class=\"dataframe\">\n",
       "  <thead>\n",
       "    <tr style=\"text-align: right;\">\n",
       "      <th></th>\n",
       "      <th>id</th>\n",
       "      <th>text</th>\n",
       "      <th>emotion</th>\n",
       "      <th>intensity</th>\n",
       "    </tr>\n",
       "  </thead>\n",
       "  <tbody>\n",
       "    <tr>\n",
       "      <th>758</th>\n",
       "      <td>10758</td>\n",
       "      <td>@The_Boxing_Hub #klitschko @Klitschko over fur...</td>\n",
       "      <td>anger</td>\n",
       "      <td>0.312</td>\n",
       "    </tr>\n",
       "    <tr>\n",
       "      <th>606</th>\n",
       "      <td>10606</td>\n",
       "      <td>@ParrishWalton @kjmgolf Also, our best assets ...</td>\n",
       "      <td>anger</td>\n",
       "      <td>0.396</td>\n",
       "    </tr>\n",
       "    <tr>\n",
       "      <th>147</th>\n",
       "      <td>10147</td>\n",
       "      <td>That feel when you travel 700 miles to pick up...</td>\n",
       "      <td>anger</td>\n",
       "      <td>0.667</td>\n",
       "    </tr>\n",
       "    <tr>\n",
       "      <th>3111</th>\n",
       "      <td>40284</td>\n",
       "      <td>you never call me when your sober</td>\n",
       "      <td>sadness</td>\n",
       "      <td>0.562</td>\n",
       "    </tr>\n",
       "    <tr>\n",
       "      <th>124</th>\n",
       "      <td>10124</td>\n",
       "      <td>..... wakes up and says 'have you tried changi...</td>\n",
       "      <td>anger</td>\n",
       "      <td>0.688</td>\n",
       "    </tr>\n",
       "    <tr>\n",
       "      <th>722</th>\n",
       "      <td>10722</td>\n",
       "      <td>Never make a #decision when you're #angry and ...</td>\n",
       "      <td>anger</td>\n",
       "      <td>0.333</td>\n",
       "    </tr>\n",
       "    <tr>\n",
       "      <th>2187</th>\n",
       "      <td>30183</td>\n",
       "      <td>It's finally raining in Ashland, Oregon. We've...</td>\n",
       "      <td>joy</td>\n",
       "      <td>0.660</td>\n",
       "    </tr>\n",
       "    <tr>\n",
       "      <th>2201</th>\n",
       "      <td>30197</td>\n",
       "      <td>Watch this amazing live.ly broadcast by @katyy...</td>\n",
       "      <td>joy</td>\n",
       "      <td>0.646</td>\n",
       "    </tr>\n",
       "    <tr>\n",
       "      <th>1466</th>\n",
       "      <td>20609</td>\n",
       "      <td>@Joey7Barton I remember Joey slagging England ...</td>\n",
       "      <td>fear</td>\n",
       "      <td>0.461</td>\n",
       "    </tr>\n",
       "    <tr>\n",
       "      <th>1527</th>\n",
       "      <td>20670</td>\n",
       "      <td>@Policy_Exchange A plus point, she won't have ...</td>\n",
       "      <td>fear</td>\n",
       "      <td>0.438</td>\n",
       "    </tr>\n",
       "  </tbody>\n",
       "</table>\n",
       "</div>"
      ],
      "text/plain": [
       "         id                                               text  emotion  \\\n",
       "758   10758  @The_Boxing_Hub #klitschko @Klitschko over fur...    anger   \n",
       "606   10606  @ParrishWalton @kjmgolf Also, our best assets ...    anger   \n",
       "147   10147  That feel when you travel 700 miles to pick up...    anger   \n",
       "3111  40284                  you never call me when your sober  sadness   \n",
       "124   10124  ..... wakes up and says 'have you tried changi...    anger   \n",
       "722   10722  Never make a #decision when you're #angry and ...    anger   \n",
       "2187  30183  It's finally raining in Ashland, Oregon. We've...      joy   \n",
       "2201  30197  Watch this amazing live.ly broadcast by @katyy...      joy   \n",
       "1466  20609  @Joey7Barton I remember Joey slagging England ...     fear   \n",
       "1527  20670  @Policy_Exchange A plus point, she won't have ...     fear   \n",
       "\n",
       "      intensity  \n",
       "758       0.312  \n",
       "606       0.396  \n",
       "147       0.667  \n",
       "3111      0.562  \n",
       "124       0.688  \n",
       "722       0.333  \n",
       "2187      0.660  \n",
       "2201      0.646  \n",
       "1466      0.461  \n",
       "1527      0.438  "
      ]
     },
     "execution_count": 7,
     "metadata": {},
     "output_type": "execute_result"
    }
   ],
   "source": [
    "train_df.head(10)"
   ]
  },
  {
   "cell_type": "markdown",
   "metadata": {},
   "source": [
    "---\n",
    "![Imgur](https://i.imgur.com/lXBIX1Y.png)\n",
    "Plot word frequency for Top 30 words in both train and test dataset. (Hint: refer to DM lab 1)\n",
    "\n",
    "---"
   ]
  },
  {
   "cell_type": "markdown",
   "metadata": {},
   "source": [
    "---\n",
    "### 1-2 Save data"
   ]
  },
  {
   "cell_type": "markdown",
   "metadata": {},
   "source": [
    "![Imgur](https://i.imgur.com/DMeWZY5.png)\n",
    "The pickle module implements binary protocols for serializing and de-serializing a Python object structure.   \n",
    "  \n",
    "Some advantages for using pickle structure:  \n",
    "* Because it stores the attribute type, it's more convenient for cross-platform use.  \n",
    "* When your data is huge, it could use less space to store also consume less loading time.   \n",
    "\n",
    " e.g.\n",
    "![Imgur](https://i.imgur.com/jXNE6e7.png)"
   ]
  },
  {
   "cell_type": "code",
   "execution_count": 8,
   "metadata": {
    "ExecuteTime": {
     "end_time": "2018-11-05T04:51:07.083547Z",
     "start_time": "2018-11-05T04:51:07.066357Z"
    }
   },
   "outputs": [],
   "source": [
    "## save to pickle file\n",
    "train_df.to_pickle(\"train_df.pkl\") \n",
    "test_df.to_pickle(\"test_df.pkl\")\n",
    "\n",
    "## load a pickle file\n",
    "train_df = pd.read_pickle(\"train_df.pkl\")\n",
    "test_df = pd.read_pickle(\"test_df.pkl\")"
   ]
  },
  {
   "cell_type": "markdown",
   "metadata": {},
   "source": [
    "For more information: https://reurl.cc/0Dzqx"
   ]
  },
  {
   "cell_type": "markdown",
   "metadata": {},
   "source": [
    "---\n",
    "### 1-3 Exploratory data analysis (EDA)"
   ]
  },
  {
   "cell_type": "code",
   "execution_count": 9,
   "metadata": {
    "ExecuteTime": {
     "end_time": "2018-11-05T04:51:11.176452Z",
     "start_time": "2018-11-05T04:51:10.674817Z"
    },
    "scrolled": true
   },
   "outputs": [
    {
     "data": {
      "text/plain": [
       "<matplotlib.axes._subplots.AxesSubplot at 0x118747320>"
      ]
     },
     "execution_count": 9,
     "metadata": {},
     "output_type": "execute_result"
    },
    {
     "data": {
      "image/png": "[encoded data removed]",
      "text/plain": [
       "<Figure size 432x288 with 1 Axes>"
      ]
     },
     "metadata": {},
     "output_type": "display_data"
    }
   ],
   "source": [
    "%matplotlib inline\n",
    "\n",
    "train_df['emotion'].value_counts().plot(kind=\"bar\", rot=0)"
   ]
  },
  {
   "cell_type": "markdown",
   "metadata": {},
   "source": [
    "---\n",
    "![Imgur](https://i.imgur.com/lXBIX1Y.png)\n",
    "Is this considered an imbalanced dataset? Try to perform some more data exploration and statistical inference as done in lab session 1. \n",
    "\n",
    "---"
   ]
  },
  {
   "cell_type": "code",
   "execution_count": 10,
   "metadata": {},
   "outputs": [
    {
     "data": {
      "text/plain": [
       "<matplotlib.axes._subplots.AxesSubplot at 0x108bb4588>"
      ]
     },
     "execution_count": 10,
     "metadata": {},
     "output_type": "execute_result"
    },
    {
     "data": {
      "image/png": "[encoded data removed]",
      "text/plain": [
       "<matplotlib.figure.Figure at 0x108bc6cf8>"
      ]
     },
     "metadata": {},
     "output_type": "display_data"
    }
   ],
   "source": [
    "test_df['emotion'].value_counts().plot(kind=\"bar\", rot=0)"
   ]
  },
  {
   "cell_type": "markdown",
   "metadata": {},
   "source": [
    "---"
   ]
  },
  {
   "cell_type": "markdown",
   "metadata": {},
   "source": [
    "### 2. Feature engineering\n",
    "### Using Bag of Words\n",
    "Using scikit-learn ```CountVectorizer``` perform word frequency and use these as features to train a model.  \n",
    "http://scikit-learn.org/stable/modules/generated/sklearn.feature_extraction.text.CountVectorizer.html"
   ]
  },
  {
   "cell_type": "code",
   "execution_count": 57,
   "metadata": {
    "ExecuteTime": {
     "end_time": "2018-11-05T05:35:21.428191Z",
     "start_time": "2018-11-05T05:35:21.425476Z"
    }
   },
   "outputs": [],
   "source": [
    "from sklearn.feature_extraction.text import CountVectorizer, TfidfVectorizer"
   ]
  },
  {
   "cell_type": "code",
   "execution_count": 11,
   "metadata": {
    "ExecuteTime": {
     "end_time": "2018-11-05T04:53:08.504885Z",
     "start_time": "2018-11-05T04:53:08.501628Z"
    }
   },
   "outputs": [],
   "source": [
    "# build analyzers (bag-of-words)\n",
    "BOW_vectorizer = CountVectorizer() "
   ]
  },
  {
   "cell_type": "code",
   "execution_count": 12,
   "metadata": {
    "ExecuteTime": {
     "end_time": "2018-11-05T04:53:09.973134Z",
     "start_time": "2018-11-05T04:53:09.812560Z"
    }
   },
   "outputs": [],
   "source": [
    "# 1. Learn a vocabulary dictionary of all tokens in the raw documents.\n",
    "BOW_vectorizer.fit(train_df['text'])\n",
    "\n",
    "# 2. Transform documents to document-term matrix.\n",
    "train_data_BOW_features = BOW_vectorizer.transform(train_df['text'])\n",
    "test_data_BOW_features = BOW_vectorizer.transform(test_df['text'])"
   ]
  },
  {
   "cell_type": "code",
   "execution_count": 13,
   "metadata": {
    "ExecuteTime": {
     "end_time": "2018-11-05T04:53:12.140234Z",
     "start_time": "2018-11-05T04:53:12.136201Z"
    }
   },
   "outputs": [
    {
     "data": {
      "text/plain": [
       "<3613x10115 sparse matrix of type '<class 'numpy.int64'>'\n",
       "\twith 51467 stored elements in Compressed Sparse Row format>"
      ]
     },
     "execution_count": 13,
     "metadata": {},
     "output_type": "execute_result"
    }
   ],
   "source": [
    "# check the result\n",
    "train_data_BOW_features"
   ]
  },
  {
   "cell_type": "code",
   "execution_count": 14,
   "metadata": {
    "ExecuteTime": {
     "end_time": "2018-11-05T04:53:17.108121Z",
     "start_time": "2018-11-05T04:53:17.103532Z"
    }
   },
   "outputs": [
    {
     "data": {
      "text/plain": [
       "scipy.sparse.csr.csr_matrix"
      ]
     },
     "execution_count": 14,
     "metadata": {},
     "output_type": "execute_result"
    }
   ],
   "source": [
    "type(train_data_BOW_features)"
   ]
  },
  {
   "cell_type": "code",
   "execution_count": 15,
   "metadata": {
    "ExecuteTime": {
     "end_time": "2018-11-05T04:53:18.680952Z",
     "start_time": "2018-11-05T04:53:18.607666Z"
    },
    "scrolled": true
   },
   "outputs": [
    {
     "data": {
      "text/plain": [
       "array([[0, 0, 0, ..., 0, 0, 0],\n",
       "       [0, 0, 0, ..., 0, 0, 0],\n",
       "       [0, 0, 0, ..., 0, 0, 0],\n",
       "       ...,\n",
       "       [0, 0, 0, ..., 0, 0, 0],\n",
       "       [0, 0, 0, ..., 0, 0, 0],\n",
       "       [0, 0, 0, ..., 0, 0, 0]])"
      ]
     },
     "execution_count": 15,
     "metadata": {},
     "output_type": "execute_result"
    }
   ],
   "source": [
    "# add .toarray() to show\n",
    "train_data_BOW_features.toarray()"
   ]
  },
  {
   "cell_type": "code",
   "execution_count": 16,
   "metadata": {
    "ExecuteTime": {
     "end_time": "2018-11-05T04:53:20.691908Z",
     "start_time": "2018-11-05T04:53:20.686843Z"
    },
    "scrolled": false
   },
   "outputs": [
    {
     "data": {
      "text/plain": [
       "(3613, 10115)"
      ]
     },
     "execution_count": 16,
     "metadata": {},
     "output_type": "execute_result"
    }
   ],
   "source": [
    "# check the dimension\n",
    "train_data_BOW_features.shape"
   ]
  },
  {
   "cell_type": "code",
   "execution_count": 17,
   "metadata": {
    "ExecuteTime": {
     "end_time": "2018-11-05T04:53:22.136126Z",
     "start_time": "2018-11-05T04:53:22.124799Z"
    }
   },
   "outputs": [
    {
     "data": {
      "text/plain": [
       "['2k17', '2much', '2nd', '30', '300', '301', '30am', '30pm', '30s', '31']"
      ]
     },
     "execution_count": 17,
     "metadata": {},
     "output_type": "execute_result"
    }
   ],
   "source": [
    "# observe some feature names\n",
    "feature_names = BOW_vectorizer.get_feature_names()\n",
    "feature_names[100:110]"
   ]
  },
  {
   "cell_type": "markdown",
   "metadata": {},
   "source": [
    " "
   ]
  },
  {
   "cell_type": "markdown",
   "metadata": {},
   "source": [
    "Basically, we could put this into classification model now.  \n",
    "\n",
    "However, here are some problem....\n",
    "\n",
    "* curse of dimensionality  (we have 10,115 dimension now)\n",
    "* some important features are ignored"
   ]
  },
  {
   "cell_type": "code",
   "execution_count": 18,
   "metadata": {
    "ExecuteTime": {
     "end_time": "2018-11-05T04:53:29.289429Z",
     "start_time": "2018-11-05T04:53:29.283718Z"
    }
   },
   "outputs": [
    {
     "data": {
      "text/plain": [
       "False"
      ]
     },
     "execution_count": 18,
     "metadata": {},
     "output_type": "execute_result"
    }
   ],
   "source": [
    "\"😂\" in feature_names"
   ]
  },
  {
   "cell_type": "markdown",
   "metadata": {},
   "source": [
    " "
   ]
  },
  {
   "cell_type": "markdown",
   "metadata": {},
   "source": [
    "Thus, let us try other parameter setting..."
   ]
  },
  {
   "cell_type": "code",
   "execution_count": 19,
   "metadata": {
    "ExecuteTime": {
     "end_time": "2018-11-05T04:53:47.679974Z",
     "start_time": "2018-11-05T04:53:45.591598Z"
    }
   },
   "outputs": [
    {
     "data": {
      "text/plain": [
       "(3613, 500)"
      ]
     },
     "execution_count": 19,
     "metadata": {},
     "output_type": "execute_result"
    }
   ],
   "source": [
    "import nltk\n",
    "\n",
    "# build analyzers (bag-of-words)\n",
    "BOW_500 = CountVectorizer(max_features=500, tokenizer=nltk.word_tokenize) \n",
    "\n",
    "# apply analyzer to training data\n",
    "BOW_500.fit(train_df['text'])\n",
    "\n",
    "train_data_BOW_features_500 = BOW_500.transform(train_df['text'])\n",
    "\n",
    "## check dimension\n",
    "train_data_BOW_features_500.shape"
   ]
  },
  {
   "cell_type": "code",
   "execution_count": 20,
   "metadata": {
    "ExecuteTime": {
     "end_time": "2018-11-05T04:53:48.984918Z",
     "start_time": "2018-11-05T04:53:48.973135Z"
    }
   },
   "outputs": [
    {
     "data": {
      "text/plain": [
       "array([[0, 2, 0, ..., 0, 0, 0],\n",
       "       [0, 0, 0, ..., 0, 0, 0],\n",
       "       [0, 1, 0, ..., 0, 0, 0],\n",
       "       ...,\n",
       "       [0, 0, 0, ..., 0, 0, 0],\n",
       "       [0, 1, 0, ..., 0, 0, 0],\n",
       "       [0, 0, 0, ..., 0, 0, 0]])"
      ]
     },
     "execution_count": 20,
     "metadata": {},
     "output_type": "execute_result"
    }
   ],
   "source": [
    "train_data_BOW_features_500.toarray()"
   ]
  },
  {
   "cell_type": "code",
   "execution_count": 21,
   "metadata": {
    "ExecuteTime": {
     "end_time": "2018-11-05T04:53:50.846801Z",
     "start_time": "2018-11-05T04:53:50.840275Z"
    }
   },
   "outputs": [
    {
     "data": {
      "text/plain": [
       "['cheerful',\n",
       " 'cheering',\n",
       " 'cheery',\n",
       " 'come',\n",
       " 'comes',\n",
       " 'could',\n",
       " 'country',\n",
       " 'cry',\n",
       " 'crying',\n",
       " 'customer']"
      ]
     },
     "execution_count": 21,
     "metadata": {},
     "output_type": "execute_result"
    }
   ],
   "source": [
    "# observe some feature names\n",
    "feature_names_500 = BOW_500.get_feature_names()\n",
    "feature_names_500[100:110]"
   ]
  },
  {
   "cell_type": "code",
   "execution_count": 22,
   "metadata": {
    "ExecuteTime": {
     "end_time": "2018-11-05T04:53:52.776097Z",
     "start_time": "2018-11-05T04:53:52.772193Z"
    }
   },
   "outputs": [
    {
     "data": {
      "text/plain": [
       "True"
      ]
     },
     "execution_count": 22,
     "metadata": {},
     "output_type": "execute_result"
    }
   ],
   "source": [
    "\"😂\" in feature_names_500"
   ]
  },
  {
   "cell_type": "markdown",
   "metadata": {},
   "source": [
    "---\n",
    "### 3. Model\n",
    "### Using Decision Trees\n",
    "Using scikit-learn ```DecisionTreeClassifier``` perform word frequency and use these as features to train a model.  \n",
    "http://scikit-learn.org/stable/modules/generated/sklearn.tree.DecisionTreeClassifier.html#sklearn.tree.DecisionTreeClassifier"
   ]
  },
  {
   "cell_type": "code",
   "execution_count": 24,
   "metadata": {},
   "outputs": [],
   "source": [
    "from sklearn.tree import DecisionTreeClassifier"
   ]
  },
  {
   "cell_type": "code",
   "execution_count": 41,
   "metadata": {
    "ExecuteTime": {
     "end_time": "2018-11-05T05:29:33.636467Z",
     "start_time": "2018-11-05T05:29:32.736206Z"
    }
   },
   "outputs": [
    {
     "name": "stdout",
     "output_type": "stream",
     "text": [
      "X_train.shape:  (3613, 500)\n",
      "y_train.shape:  (3613,)\n",
      "X_test.shape:  (347, 500)\n",
      "y_test.shape:  (347,)\n"
     ]
    }
   ],
   "source": [
    "# for a classificaiton problem, you need to provide both training & testing data\n",
    "X_train = BOW_500.transform(train_df['text'])\n",
    "y_train = train_df['emotion']\n",
    "\n",
    "X_test = BOW_500.transform(test_df['text'])\n",
    "y_test = test_df['emotion']\n",
    "\n",
    "## take a look at data dimension is a good habbit  :)\n",
    "print('X_train.shape: ', X_train.shape)\n",
    "print('y_train.shape: ', y_train.shape)\n",
    "print('X_test.shape: ', X_test.shape)\n",
    "print('y_test.shape: ', y_test.shape)"
   ]
  },
  {
   "cell_type": "code",
   "execution_count": 42,
   "metadata": {
    "ExecuteTime": {
     "end_time": "2018-11-05T05:29:34.745165Z",
     "start_time": "2018-11-05T05:29:34.593770Z"
    }
   },
   "outputs": [
    {
     "data": {
      "text/plain": [
       "array(['fear', 'fear', 'anger', 'sadness', 'fear', 'fear', 'anger',\n",
       "       'fear', 'fear', 'anger'], dtype=object)"
      ]
     },
     "execution_count": 42,
     "metadata": {},
     "output_type": "execute_result"
    }
   ],
   "source": [
    "## build DecisionTree model\n",
    "DT_model = DecisionTreeClassifier(random_state=0)\n",
    "\n",
    "## training!\n",
    "DT_model = DT_model.fit(X_train, y_train)\n",
    "\n",
    "## predict!\n",
    "y_train_pred = DT_model.predict(X_train)\n",
    "y_test_pred = DT_model.predict(X_test)\n",
    "\n",
    "\n",
    "## so we get the pred result\n",
    "y_test_pred[:10]"
   ]
  },
  {
   "cell_type": "markdown",
   "metadata": {},
   "source": [
    " "
   ]
  },
  {
   "cell_type": "markdown",
   "metadata": {},
   "source": [
    "---\n",
    "### 4. Results Evaluation"
   ]
  },
  {
   "cell_type": "code",
   "execution_count": 43,
   "metadata": {
    "ExecuteTime": {
     "end_time": "2018-11-05T05:29:36.886807Z",
     "start_time": "2018-11-05T05:29:36.877142Z"
    }
   },
   "outputs": [
    {
     "name": "stdout",
     "output_type": "stream",
     "text": [
      "training accuracy: 0.99\n",
      "testing accuracy: 0.66\n"
     ]
    }
   ],
   "source": [
    "## How to evaluate the pred result?\n",
    "\n",
    "# check statistical results\n",
    "\n",
    "## accuracy\n",
    "from sklearn.metrics import accuracy_score\n",
    "\n",
    "acc_train = accuracy_score(y_true=y_train, y_pred=y_train_pred)\n",
    "acc_test = accuracy_score(y_true=y_test, y_pred=y_test_pred)\n",
    "\n",
    "print('training accuracy: {}'.format(round(acc_train, 2)))\n",
    "print('testing accuracy: {}'.format(round(acc_test, 2)))\n"
   ]
  },
  {
   "cell_type": "code",
   "execution_count": 44,
   "metadata": {
    "ExecuteTime": {
     "end_time": "2018-11-05T05:29:38.340806Z",
     "start_time": "2018-11-05T05:29:38.331797Z"
    }
   },
   "outputs": [
    {
     "name": "stdout",
     "output_type": "stream",
     "text": [
      "             precision    recall  f1-score   support\n",
      "\n",
      "      anger       0.70      0.68      0.69        84\n",
      "       fear       0.68      0.68      0.68       110\n",
      "        joy       0.62      0.67      0.65        79\n",
      "    sadness       0.63      0.59      0.61        74\n",
      "\n",
      "avg / total       0.66      0.66      0.66       347\n",
      "\n"
     ]
    }
   ],
   "source": [
    "## precision, recall, f1-score,\n",
    "from sklearn.metrics import classification_report\n",
    "\n",
    "print(classification_report(y_true=y_test, y_pred=y_test_pred))"
   ]
  },
  {
   "cell_type": "code",
   "execution_count": 45,
   "metadata": {
    "ExecuteTime": {
     "end_time": "2018-11-05T05:29:39.803400Z",
     "start_time": "2018-11-05T05:29:39.796891Z"
    }
   },
   "outputs": [
    {
     "name": "stdout",
     "output_type": "stream",
     "text": [
      "[[57 11  7  9]\n",
      " [11 75 14 10]\n",
      " [ 6 13 53  7]\n",
      " [ 7 12 11 44]]\n"
     ]
    }
   ],
   "source": [
    "## check by confusion matrix\n",
    "from sklearn.metrics import confusion_matrix\n",
    "\n",
    "cm = confusion_matrix(y_true=y_test, y_pred=y_test_pred) \n",
    "print(cm)"
   ]
  },
  {
   "cell_type": "code",
   "execution_count": 46,
   "metadata": {
    "ExecuteTime": {
     "end_time": "2018-11-05T05:29:41.387004Z",
     "start_time": "2018-11-05T05:29:41.342141Z"
    }
   },
   "outputs": [],
   "source": [
    "# Funciton for visualizing confusion_matrix\n",
    "import matplotlib.pyplot as plt\n",
    "import seaborn as sns\n",
    "import numpy as np\n",
    "import itertools\n",
    "\n",
    "def plot_confusion_matrix(cm, classes, normalize=False, title='Confusion matrix',\n",
    "                          cmap=sns.cubehelix_palette(as_cmap=True)):\n",
    "    \"\"\"\n",
    "    This function is modified from: \n",
    "    http://scikit-learn.org/stable/auto_examples/model_selection/plot_confusion_matrix.html\n",
    "    \"\"\"\n",
    "    if normalize:\n",
    "        cm = cm.astype('float') / cm.sum(axis=1)[:, np.newaxis]\n",
    "        print(\"Normalized confusion matrix\")\n",
    "    else:\n",
    "        print('Confusion matrix, without normalization')\n",
    "    classes.sort()\n",
    "    tick_marks = np.arange(len(classes))    \n",
    "    plt.figure(figsize=(4, 4),dpi=115)\n",
    "    plt.imshow(cm, interpolation='nearest', cmap=cmap)\n",
    "    plt.title(title)\n",
    "    plt.colorbar()\n",
    "    plt.xticks(tick_marks, classes, rotation=45)\n",
    "    plt.yticks(tick_marks, classes)\n",
    "    fmt = '.2f' if normalize else 'd'\n",
    "    thresh = cm.max() / 2.\n",
    "    for i, j in itertools.product(range(cm.shape[0]), range(cm.shape[1])):\n",
    "        plt.text(j, i, format(cm[i, j], fmt), horizontalalignment=\"center\", color=\"white\" if cm[i, j] > thresh else \"black\")\n",
    "    plt.ylabel('True label')\n",
    "    plt.xlabel('Predicted label')\n",
    "    plt.tight_layout()"
   ]
  },
  {
   "cell_type": "code",
   "execution_count": 47,
   "metadata": {
    "ExecuteTime": {
     "end_time": "2018-11-05T05:29:43.082182Z",
     "start_time": "2018-11-05T05:29:42.741363Z"
    }
   },
   "outputs": [
    {
     "name": "stdout",
     "output_type": "stream",
     "text": [
      "Confusion matrix, without normalization\n"
     ]
    },
    {
     "data": {
      "image/png": "[encoded data removed]",
      "text/plain": [
       "<Figure size 460x460 with 2 Axes>"
      ]
     },
     "metadata": {},
     "output_type": "display_data"
    }
   ],
   "source": [
    "# plot your confusion matrix\n",
    "my_tags = ['anger', 'fear', 'joy', 'sadness']\n",
    "plot_confusion_matrix(cm, classes=my_tags, title='Confusion matrix')"
   ]
  },
  {
   "cell_type": "markdown",
   "metadata": {},
   "source": [
    "---\n",
    "### 5. Your show time\n",
    "\n",
    "#### Check what you are assigned to do here:  \n",
    "* Google sheet  \n",
    "https://docs.google.com/spreadsheets/d/1FMjT0LasiVIERRQH8Co8FhKnl2qwODRxOA87ivRSKMA/edit#gid=531101419\n",
    "\n",
    "#### Share what you find in our in-class practice here:\n",
    "* iLMS forum (title: Lab2 in-class discussion)  \n",
    "http://lms.nthu.edu.tw/course.php?courseID=36071&f=forumlist\n",
    "\n",
    "----"
   ]
  },
  {
   "cell_type": "markdown",
   "metadata": {},
   "source": [
    "**To complete these tasks, you could refer to the official documents below**"
   ]
  },
  {
   "cell_type": "markdown",
   "metadata": {},
   "source": [
    "- Feature engineering methods:\n",
    "    * Bag of words  \n",
    "http://scikit-learn.org/stable/modules/generated/sklearn.feature_extraction.text.CountVectorizer.html\n",
    "  \n",
    "    * TF-IDF  \n",
    "http://scikit-learn.org/stable/modules/generated/sklearn.feature_extraction.text.TfidfVectorizer.html\n",
    "\n"
   ]
  },
  {
   "cell_type": "markdown",
   "metadata": {},
   "source": [
    "- Models:\n",
    "    * Decision tree  \n",
    "http://scikit-learn.org/stable/modules/generated/sklearn.tree.DecisionTreeClassifier.html#sklearn.tree.DecisionTreeClassifier\n",
    "  \n",
    "    * Naive bayes  \n",
    "http://scikit-learn.org/stable/modules/generated/sklearn.naive_bayes.MultinomialNB.html"
   ]
  },
  {
   "cell_type": "markdown",
   "metadata": {},
   "source": [
    "---\n",
    "**During doing your experiments, please download this data at the same time:**  \n",
    "https://drive.google.com/file/d/0B7XkCwpI5KDYNlNUTTlSS21pQmM/edit?usp=sharing\n"
   ]
  },
  {
   "cell_type": "markdown",
   "metadata": {},
   "source": [
    "\n",
    "The data size is around 1.5GB before compress, but you **don't** **don't** **don't** need to decompress it."
   ]
  },
  {
   "cell_type": "code",
   "execution_count": 84,
   "metadata": {
    "ExecuteTime": {
     "end_time": "2018-11-05T05:54:15.377606Z",
     "start_time": "2018-11-05T05:54:15.367793Z"
    }
   },
   "outputs": [],
   "source": [
    "max_features = [500, 3000]\n",
    "model_list = [DecisionTreeClassifier(random_state=0), MultinomialNB()]\n",
    "vectorizer_list = [CountVectorizer, TfidfVectorizer]"
   ]
  },
  {
   "cell_type": "code",
   "execution_count": 87,
   "metadata": {
    "ExecuteTime": {
     "end_time": "2018-11-05T05:55:36.411442Z",
     "start_time": "2018-11-05T05:55:36.404730Z"
    }
   },
   "outputs": [],
   "source": [
    "def lab(model, vectorizer, dim):\n",
    "    v = vectorizer(analyzer='char', \n",
    "                     max_features=dim,\n",
    "                     stop_words=None, \n",
    "                     tokenizer=None,\n",
    "                     ngram_range=(2, 4),\n",
    "                     lowercase=False,\n",
    "                     max_df=0.8)\n",
    "    v.fit(train_df['text'].values.tolist() + test_df['text'].values.tolist())\n",
    "    X_train = v.transform(train_df['text'])\n",
    "    X_test = v.transform(test_df['text'])\n",
    "    ## build DecisionTree model\n",
    "\n",
    "    ## training!\n",
    "    model = model.fit(X_train, y_train)\n",
    "\n",
    "    ## predict!\n",
    "    y_train_pred = model.predict(X_train)\n",
    "    y_test_pred = model.predict(X_test)\n",
    "\n",
    "    acc_train = accuracy_score(y_true=y_train, y_pred=y_train_pred)\n",
    "    acc_test = accuracy_score(y_true=y_test, y_pred=y_test_pred)\n",
    "\n",
    "    print('{:.2f}/{:.2f}'.format(acc_train, acc_test))"
   ]
  },
  {
   "cell_type": "code",
   "execution_count": 89,
   "metadata": {
    "ExecuteTime": {
     "end_time": "2018-11-05T05:56:19.247590Z",
     "start_time": "2018-11-05T05:55:59.048530Z"
    }
   },
   "outputs": [
    {
     "name": "stdout",
     "output_type": "stream",
     "text": [
      "0.99/0.42\n",
      "0.99/0.62\n",
      "0.55/0.44\n",
      "0.76/0.64\n",
      "0.99/0.39\n",
      "0.99/0.53\n",
      "0.52/0.46\n",
      "0.76/0.63\n"
     ]
    }
   ],
   "source": [
    "for v in vectorizer_list:\n",
    "    for m in model_list:\n",
    "        for dim in max_features:\n",
    "            #print(v, m, dim)\n",
    "            lab(m, v, dim)"
   ]
  },
  {
   "cell_type": "markdown",
   "metadata": {},
   "source": [
    "### 6. Other things you can try\n",
    "![Imgur](https://i.imgur.com/n7w94Dj.png)"
   ]
  }
 ],
 "metadata": {
  "kernelspec": {
   "display_name": "Python 3",
   "language": "python",
   "name": "python3"
  },
  "language_info": {
   "codemirror_mode": {
    "name": "ipython",
    "version": 3
   },
   "file_extension": ".py",
   "mimetype": "text/x-python",
   "name": "python",
   "nbconvert_exporter": "python",
   "pygments_lexer": "ipython3",
   "version": "3.7.0"
  },
  "latex_envs": {
   "LaTeX_envs_menu_present": true,
   "autoclose": false,
   "autocomplete": true,
   "bibliofile": "biblio.bib",
   "cite_by": "apalike",
   "current_citInitial": 1,
   "eqLabelWithNumbers": true,
   "eqNumInitial": 1,
   "hotkeys": {
    "equation": "Ctrl-E",
    "itemize": "Ctrl-I"
   },
   "labels_anchors": false,
   "latex_user_defs": false,
   "report_style_numbering": false,
   "user_envs_cfg": false
  },
  "toc": {
   "base_numbering": 1,
   "nav_menu": {},
   "number_sections": true,
   "sideBar": true,
   "skip_h1_title": false,
   "title_cell": "Table of Contents",
   "title_sidebar": "Contents",
   "toc_cell": false,
   "toc_position": {},
   "toc_section_display": true,
   "toc_window_display": false
  },
  "varInspector": {
   "cols": {
    "lenName": 16,
    "lenType": 16,
    "lenVar": 40
   },
   "kernels_config": {
    "python": {
     "delete_cmd_postfix": "",
     "delete_cmd_prefix": "del ",
     "library": "var_list.py",
     "varRefreshCmd": "print(var_dic_list())"
    },
    "r": {
     "delete_cmd_postfix": ") ",
     "delete_cmd_prefix": "rm(",
     "library": "var_list.r",
     "varRefreshCmd": "cat(var_dic_list()) "
    }
   },
   "types_to_exclude": [
    "module",
    "function",
    "builtin_function_or_method",
    "instance",
    "_Feature"
   ],
   "window_display": false
  }
 },
 "nbformat": 4,
 "nbformat_minor": 2
}
